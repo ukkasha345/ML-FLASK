{
 "cells": [
  {
   "cell_type": "code",
   "execution_count": 1,
   "metadata": {
    "id": "kVKokFeFJw7W"
   },
   "outputs": [],
   "source": [
    "import pandas as pd\n",
    "import numpy as np\n",
    "import matplotlib.pyplot as plt\n",
    "import seaborn as sns\n",
    "from sklearn.model_selection import train_test_split\n",
    "from sklearn.preprocessing import LabelEncoder"
   ]
  },
  {
   "cell_type": "code",
   "execution_count": 51,
   "metadata": {
    "id": "Ne2LypNhdBZl"
   },
   "outputs": [],
   "source": [
    "# data = pd.read_csv('/content/Medical_dataset.csv')\n",
    "data = pd.read_csv('./Medical_dataset.csv')"
   ]
  },
  {
   "cell_type": "code",
   "execution_count": 55,
   "metadata": {
    "colab": {
     "base_uri": "https://localhost:8080/",
     "height": 206
    },
    "id": "o4c3JxXgdJ4u",
    "outputId": "f09eceff-7ed5-4d35-81e7-a28f5f9a92ca"
   },
   "outputs": [
    {
     "data": {
      "text/html": [
       "<div>\n",
       "<style scoped>\n",
       "    .dataframe tbody tr th:only-of-type {\n",
       "        vertical-align: middle;\n",
       "    }\n",
       "\n",
       "    .dataframe tbody tr th {\n",
       "        vertical-align: top;\n",
       "    }\n",
       "\n",
       "    .dataframe thead th {\n",
       "        text-align: right;\n",
       "    }\n",
       "</style>\n",
       "<table border=\"1\" class=\"dataframe\">\n",
       "  <thead>\n",
       "    <tr style=\"text-align: right;\">\n",
       "      <th></th>\n",
       "      <th>sex</th>\n",
       "      <th>Height</th>\n",
       "      <th>Weight</th>\n",
       "      <th>age</th>\n",
       "      <th>diabetes</th>\n",
       "      <th>Goal</th>\n",
       "    </tr>\n",
       "  </thead>\n",
       "  <tbody>\n",
       "    <tr>\n",
       "      <th>0</th>\n",
       "      <td>1.0</td>\n",
       "      <td>73.847017</td>\n",
       "      <td>241.893563</td>\n",
       "      <td>63</td>\n",
       "      <td>0</td>\n",
       "      <td>Weight Loss</td>\n",
       "    </tr>\n",
       "    <tr>\n",
       "      <th>1</th>\n",
       "      <td>0.0</td>\n",
       "      <td>68.781904</td>\n",
       "      <td>162.310473</td>\n",
       "      <td>37</td>\n",
       "      <td>0</td>\n",
       "      <td>Weight gain</td>\n",
       "    </tr>\n",
       "    <tr>\n",
       "      <th>2</th>\n",
       "      <td>1.0</td>\n",
       "      <td>74.110105</td>\n",
       "      <td>212.740856</td>\n",
       "      <td>41</td>\n",
       "      <td>0</td>\n",
       "      <td>Weight Loss</td>\n",
       "    </tr>\n",
       "    <tr>\n",
       "      <th>3</th>\n",
       "      <td>1.0</td>\n",
       "      <td>71.730978</td>\n",
       "      <td>220.042470</td>\n",
       "      <td>56</td>\n",
       "      <td>0</td>\n",
       "      <td>Weight Loss</td>\n",
       "    </tr>\n",
       "    <tr>\n",
       "      <th>4</th>\n",
       "      <td>0.0</td>\n",
       "      <td>69.881796</td>\n",
       "      <td>206.349801</td>\n",
       "      <td>57</td>\n",
       "      <td>1</td>\n",
       "      <td>Healthy</td>\n",
       "    </tr>\n",
       "    <tr>\n",
       "      <th>5</th>\n",
       "      <td>1.0</td>\n",
       "      <td>67.253016</td>\n",
       "      <td>152.212156</td>\n",
       "      <td>57</td>\n",
       "      <td>0</td>\n",
       "      <td>Weight gain</td>\n",
       "    </tr>\n",
       "    <tr>\n",
       "      <th>6</th>\n",
       "      <td>1.0</td>\n",
       "      <td>68.785081</td>\n",
       "      <td>183.927889</td>\n",
       "      <td>56</td>\n",
       "      <td>0</td>\n",
       "      <td>Healthy</td>\n",
       "    </tr>\n",
       "    <tr>\n",
       "      <th>7</th>\n",
       "      <td>1.0</td>\n",
       "      <td>68.348516</td>\n",
       "      <td>167.971111</td>\n",
       "      <td>44</td>\n",
       "      <td>1</td>\n",
       "      <td>Weight gain</td>\n",
       "    </tr>\n",
       "    <tr>\n",
       "      <th>8</th>\n",
       "      <td>0.0</td>\n",
       "      <td>67.018950</td>\n",
       "      <td>175.929440</td>\n",
       "      <td>52</td>\n",
       "      <td>0</td>\n",
       "      <td>Healthy</td>\n",
       "    </tr>\n",
       "    <tr>\n",
       "      <th>9</th>\n",
       "      <td>1.0</td>\n",
       "      <td>63.456494</td>\n",
       "      <td>156.399676</td>\n",
       "      <td>57</td>\n",
       "      <td>0</td>\n",
       "      <td>Weight gain</td>\n",
       "    </tr>\n",
       "    <tr>\n",
       "      <th>10</th>\n",
       "      <td>0.0</td>\n",
       "      <td>71.195382</td>\n",
       "      <td>186.604926</td>\n",
       "      <td>54</td>\n",
       "      <td>0</td>\n",
       "      <td>Weight Loss</td>\n",
       "    </tr>\n",
       "    <tr>\n",
       "      <th>11</th>\n",
       "      <td>1.0</td>\n",
       "      <td>71.640805</td>\n",
       "      <td>213.741170</td>\n",
       "      <td>48</td>\n",
       "      <td>0</td>\n",
       "      <td>Weight Loss</td>\n",
       "    </tr>\n",
       "    <tr>\n",
       "      <th>12</th>\n",
       "      <td>1.0</td>\n",
       "      <td>64.766329</td>\n",
       "      <td>167.127461</td>\n",
       "      <td>49</td>\n",
       "      <td>0</td>\n",
       "      <td>Weight gain</td>\n",
       "    </tr>\n",
       "    <tr>\n",
       "      <th>13</th>\n",
       "      <td>1.0</td>\n",
       "      <td>69.283070</td>\n",
       "      <td>189.446181</td>\n",
       "      <td>64</td>\n",
       "      <td>0</td>\n",
       "      <td>Healthy</td>\n",
       "    </tr>\n",
       "    <tr>\n",
       "      <th>14</th>\n",
       "      <td>0.0</td>\n",
       "      <td>69.243732</td>\n",
       "      <td>186.434168</td>\n",
       "      <td>58</td>\n",
       "      <td>0</td>\n",
       "      <td>Healthy</td>\n",
       "    </tr>\n",
       "    <tr>\n",
       "      <th>15</th>\n",
       "      <td>1.0</td>\n",
       "      <td>67.645620</td>\n",
       "      <td>172.186930</td>\n",
       "      <td>50</td>\n",
       "      <td>0</td>\n",
       "      <td>Healthy</td>\n",
       "    </tr>\n",
       "    <tr>\n",
       "      <th>16</th>\n",
       "      <td>1.0</td>\n",
       "      <td>72.418317</td>\n",
       "      <td>196.028506</td>\n",
       "      <td>58</td>\n",
       "      <td>0</td>\n",
       "      <td>Weight Loss</td>\n",
       "    </tr>\n",
       "    <tr>\n",
       "      <th>17</th>\n",
       "      <td>1.0</td>\n",
       "      <td>63.974326</td>\n",
       "      <td>172.883470</td>\n",
       "      <td>66</td>\n",
       "      <td>0</td>\n",
       "      <td>Healthy</td>\n",
       "    </tr>\n",
       "    <tr>\n",
       "      <th>18</th>\n",
       "      <td>0.0</td>\n",
       "      <td>69.640060</td>\n",
       "      <td>185.983958</td>\n",
       "      <td>43</td>\n",
       "      <td>0</td>\n",
       "      <td>Healthy</td>\n",
       "    </tr>\n",
       "    <tr>\n",
       "      <th>19</th>\n",
       "      <td>0.0</td>\n",
       "      <td>67.936005</td>\n",
       "      <td>182.426648</td>\n",
       "      <td>69</td>\n",
       "      <td>1</td>\n",
       "      <td>Healthy</td>\n",
       "    </tr>\n",
       "  </tbody>\n",
       "</table>\n",
       "</div>"
      ],
      "text/plain": [
       "    sex     Height      Weight  age  diabetes         Goal\n",
       "0   1.0  73.847017  241.893563   63         0  Weight Loss\n",
       "1   0.0  68.781904  162.310473   37         0  Weight gain\n",
       "2   1.0  74.110105  212.740856   41         0  Weight Loss\n",
       "3   1.0  71.730978  220.042470   56         0  Weight Loss\n",
       "4   0.0  69.881796  206.349801   57         1      Healthy\n",
       "5   1.0  67.253016  152.212156   57         0  Weight gain\n",
       "6   1.0  68.785081  183.927889   56         0      Healthy\n",
       "7   1.0  68.348516  167.971111   44         1  Weight gain\n",
       "8   0.0  67.018950  175.929440   52         0      Healthy\n",
       "9   1.0  63.456494  156.399676   57         0  Weight gain\n",
       "10  0.0  71.195382  186.604926   54         0  Weight Loss\n",
       "11  1.0  71.640805  213.741170   48         0  Weight Loss\n",
       "12  1.0  64.766329  167.127461   49         0  Weight gain\n",
       "13  1.0  69.283070  189.446181   64         0      Healthy\n",
       "14  0.0  69.243732  186.434168   58         0      Healthy\n",
       "15  1.0  67.645620  172.186930   50         0      Healthy\n",
       "16  1.0  72.418317  196.028506   58         0  Weight Loss\n",
       "17  1.0  63.974326  172.883470   66         0      Healthy\n",
       "18  0.0  69.640060  185.983958   43         0      Healthy\n",
       "19  0.0  67.936005  182.426648   69         1      Healthy"
      ]
     },
     "execution_count": 55,
     "metadata": {},
     "output_type": "execute_result"
    }
   ],
   "source": [
    "data.head(20)"
   ]
  },
  {
   "cell_type": "code",
   "execution_count": 56,
   "metadata": {
    "colab": {
     "base_uri": "https://localhost:8080/",
     "height": 351
    },
    "id": "SLseFSLcoIcJ",
    "outputId": "5358da60-f023-4bb6-cb8c-e4f870aa25c4"
   },
   "outputs": [
    {
     "name": "stderr",
     "output_type": "stream",
     "text": [
      "C:\\Users\\buzurgaan\\anaconda3\\lib\\site-packages\\seaborn\\distributions.py:2557: FutureWarning: `distplot` is a deprecated function and will be removed in a future version. Please adapt your code to use either `displot` (a figure-level function with similar flexibility) or `histplot` (an axes-level function for histograms).\n",
      "  warnings.warn(msg, FutureWarning)\n"
     ]
    },
    {
     "data": {
      "text/plain": [
       "<AxesSubplot:xlabel='age', ylabel='Density'>"
      ]
     },
     "execution_count": 56,
     "metadata": {},
     "output_type": "execute_result"
    },
    {
     "data": {
      "image/png": "[encoded data removed]",
      "text/plain": [
       "<Figure size 432x288 with 1 Axes>"
      ]
     },
     "metadata": {
      "needs_background": "light"
     },
     "output_type": "display_data"
    }
   ],
   "source": [
    "sns.distplot(data['age'])"
   ]
  },
  {
   "cell_type": "code",
   "execution_count": 57,
   "metadata": {
    "colab": {
     "base_uri": "https://localhost:8080/",
     "height": 351
    },
    "id": "7ypiwjFNoY7G",
    "outputId": "d4453589-ca21-401d-e72a-2d44d2a11870"
   },
   "outputs": [
    {
     "name": "stderr",
     "output_type": "stream",
     "text": [
      "C:\\Users\\buzurgaan\\anaconda3\\lib\\site-packages\\seaborn\\_decorators.py:36: FutureWarning: Pass the following variable as a keyword arg: x. From version 0.12, the only valid positional argument will be `data`, and passing other arguments without an explicit keyword will result in an error or misinterpretation.\n",
      "  warnings.warn(\n"
     ]
    },
    {
     "data": {
      "text/plain": [
       "<AxesSubplot:xlabel='Goal', ylabel='count'>"
      ]
     },
     "execution_count": 57,
     "metadata": {},
     "output_type": "execute_result"
    },
    {
     "data": {
      "image/png": "[encoded data removed]",
      "text/plain": [
       "<Figure size 432x288 with 1 Axes>"
      ]
     },
     "metadata": {
      "needs_background": "light"
     },
     "output_type": "display_data"
    }
   ],
   "source": [
    "sns.countplot(data['Goal'])"
   ]
  },
  {
   "cell_type": "code",
   "execution_count": 58,
   "metadata": {
    "colab": {
     "base_uri": "https://localhost:8080/",
     "height": 351
    },
    "id": "GWv6NjvpogJT",
    "outputId": "8f6b39ad-280c-4780-fb6b-b7082bfb8b9d"
   },
   "outputs": [
    {
     "name": "stderr",
     "output_type": "stream",
     "text": [
      "C:\\Users\\buzurgaan\\anaconda3\\lib\\site-packages\\seaborn\\_decorators.py:36: FutureWarning: Pass the following variable as a keyword arg: x. From version 0.12, the only valid positional argument will be `data`, and passing other arguments without an explicit keyword will result in an error or misinterpretation.\n",
      "  warnings.warn(\n"
     ]
    },
    {
     "data": {
      "text/plain": [
       "<AxesSubplot:xlabel='diabetes', ylabel='count'>"
      ]
     },
     "execution_count": 58,
     "metadata": {},
     "output_type": "execute_result"
    },
    {
     "data": {
      "image/png": "[encoded data removed]",
      "text/plain": [
       "<Figure size 432x288 with 1 Axes>"
      ]
     },
     "metadata": {
      "needs_background": "light"
     },
     "output_type": "display_data"
    }
   ],
   "source": [
    "sns.countplot(data['diabetes'])"
   ]
  },
  {
   "cell_type": "code",
   "execution_count": 59,
   "metadata": {
    "colab": {
     "base_uri": "https://localhost:8080/",
     "height": 351
    },
    "id": "LVzUixo1oLvF",
    "outputId": "6b452522-5ad3-4b94-ad78-cca62e0f3d2b"
   },
   "outputs": [
    {
     "name": "stderr",
     "output_type": "stream",
     "text": [
      "C:\\Users\\buzurgaan\\anaconda3\\lib\\site-packages\\seaborn\\distributions.py:2557: FutureWarning: `distplot` is a deprecated function and will be removed in a future version. Please adapt your code to use either `displot` (a figure-level function with similar flexibility) or `histplot` (an axes-level function for histograms).\n",
      "  warnings.warn(msg, FutureWarning)\n"
     ]
    },
    {
     "data": {
      "text/plain": [
       "<AxesSubplot:xlabel='Weight', ylabel='Density'>"
      ]
     },
     "execution_count": 59,
     "metadata": {},
     "output_type": "execute_result"
    },
    {
     "data": {
      "image/png": "[encoded data removed]",
      "text/plain": [
       "<Figure size 432x288 with 1 Axes>"
      ]
     },
     "metadata": {
      "needs_background": "light"
     },
     "output_type": "display_data"
    }
   ],
   "source": [
    "sns.distplot(data['Weight'])"
   ]
  },
  {
   "cell_type": "code",
   "execution_count": 60,
   "metadata": {
    "colab": {
     "base_uri": "https://localhost:8080/"
    },
    "id": "KDKl_Z-TdQp1",
    "outputId": "c3a5d0c6-1d8f-4fda-ac7a-e0c728a3faac"
   },
   "outputs": [
    {
     "data": {
      "text/plain": [
       "(5013, 6)"
      ]
     },
     "execution_count": 60,
     "metadata": {},
     "output_type": "execute_result"
    }
   ],
   "source": [
    "data.shape"
   ]
  },
  {
   "cell_type": "code",
   "execution_count": 61,
   "metadata": {
    "colab": {
     "base_uri": "https://localhost:8080/"
    },
    "id": "0dTLAodpdM4q",
    "outputId": "26f3c9e3-53ea-4fdc-8dee-ab42ff29d42e"
   },
   "outputs": [
    {
     "data": {
      "text/plain": [
       "sex         2\n",
       "Height      0\n",
       "Weight      0\n",
       "age         0\n",
       "diabetes    0\n",
       "Goal        0\n",
       "dtype: int64"
      ]
     },
     "execution_count": 61,
     "metadata": {},
     "output_type": "execute_result"
    }
   ],
   "source": [
    "data.isnull().sum()"
   ]
  },
  {
   "cell_type": "code",
   "execution_count": 62,
   "metadata": {
    "id": "yziGGcf4ehbk"
   },
   "outputs": [],
   "source": [
    "data=data[~(data['sex'].isnull())]"
   ]
  },
  {
   "cell_type": "code",
   "execution_count": 63,
   "metadata": {
    "colab": {
     "base_uri": "https://localhost:8080/"
    },
    "id": "A0u_S-Ahd0PM",
    "outputId": "c10ff351-c20f-4a30-885a-5cad65bfd72c"
   },
   "outputs": [
    {
     "data": {
      "text/plain": [
       "sex         0\n",
       "Height      0\n",
       "Weight      0\n",
       "age         0\n",
       "diabetes    0\n",
       "Goal        0\n",
       "dtype: int64"
      ]
     },
     "execution_count": 63,
     "metadata": {},
     "output_type": "execute_result"
    }
   ],
   "source": [
    "data.isnull().sum()"
   ]
  },
  {
   "cell_type": "code",
   "execution_count": 65,
   "metadata": {
    "colab": {
     "base_uri": "https://localhost:8080/",
     "height": 206
    },
    "id": "35ty2lkPfLBg",
    "outputId": "680e56c3-f249-4d99-ec28-1677b4ae4735"
   },
   "outputs": [
    {
     "data": {
      "text/html": [
       "<div>\n",
       "<style scoped>\n",
       "    .dataframe tbody tr th:only-of-type {\n",
       "        vertical-align: middle;\n",
       "    }\n",
       "\n",
       "    .dataframe tbody tr th {\n",
       "        vertical-align: top;\n",
       "    }\n",
       "\n",
       "    .dataframe thead th {\n",
       "        text-align: right;\n",
       "    }\n",
       "</style>\n",
       "<table border=\"1\" class=\"dataframe\">\n",
       "  <thead>\n",
       "    <tr style=\"text-align: right;\">\n",
       "      <th></th>\n",
       "      <th>sex</th>\n",
       "      <th>Height</th>\n",
       "      <th>Weight</th>\n",
       "      <th>age</th>\n",
       "      <th>diabetes</th>\n",
       "      <th>Goal</th>\n",
       "    </tr>\n",
       "  </thead>\n",
       "  <tbody>\n",
       "    <tr>\n",
       "      <th>0</th>\n",
       "      <td>1.0</td>\n",
       "      <td>73.847017</td>\n",
       "      <td>241.893563</td>\n",
       "      <td>63</td>\n",
       "      <td>0</td>\n",
       "      <td>Weight Loss</td>\n",
       "    </tr>\n",
       "    <tr>\n",
       "      <th>1</th>\n",
       "      <td>0.0</td>\n",
       "      <td>68.781904</td>\n",
       "      <td>162.310473</td>\n",
       "      <td>37</td>\n",
       "      <td>0</td>\n",
       "      <td>Weight gain</td>\n",
       "    </tr>\n",
       "    <tr>\n",
       "      <th>2</th>\n",
       "      <td>1.0</td>\n",
       "      <td>74.110105</td>\n",
       "      <td>212.740856</td>\n",
       "      <td>41</td>\n",
       "      <td>0</td>\n",
       "      <td>Weight Loss</td>\n",
       "    </tr>\n",
       "    <tr>\n",
       "      <th>3</th>\n",
       "      <td>1.0</td>\n",
       "      <td>71.730978</td>\n",
       "      <td>220.042470</td>\n",
       "      <td>56</td>\n",
       "      <td>0</td>\n",
       "      <td>Weight Loss</td>\n",
       "    </tr>\n",
       "    <tr>\n",
       "      <th>4</th>\n",
       "      <td>0.0</td>\n",
       "      <td>69.881796</td>\n",
       "      <td>206.349801</td>\n",
       "      <td>57</td>\n",
       "      <td>1</td>\n",
       "      <td>Healthy</td>\n",
       "    </tr>\n",
       "    <tr>\n",
       "      <th>5</th>\n",
       "      <td>1.0</td>\n",
       "      <td>67.253016</td>\n",
       "      <td>152.212156</td>\n",
       "      <td>57</td>\n",
       "      <td>0</td>\n",
       "      <td>Weight gain</td>\n",
       "    </tr>\n",
       "    <tr>\n",
       "      <th>6</th>\n",
       "      <td>1.0</td>\n",
       "      <td>68.785081</td>\n",
       "      <td>183.927889</td>\n",
       "      <td>56</td>\n",
       "      <td>0</td>\n",
       "      <td>Healthy</td>\n",
       "    </tr>\n",
       "    <tr>\n",
       "      <th>7</th>\n",
       "      <td>1.0</td>\n",
       "      <td>68.348516</td>\n",
       "      <td>167.971111</td>\n",
       "      <td>44</td>\n",
       "      <td>1</td>\n",
       "      <td>Weight gain</td>\n",
       "    </tr>\n",
       "    <tr>\n",
       "      <th>8</th>\n",
       "      <td>0.0</td>\n",
       "      <td>67.018950</td>\n",
       "      <td>175.929440</td>\n",
       "      <td>52</td>\n",
       "      <td>0</td>\n",
       "      <td>Healthy</td>\n",
       "    </tr>\n",
       "    <tr>\n",
       "      <th>9</th>\n",
       "      <td>1.0</td>\n",
       "      <td>63.456494</td>\n",
       "      <td>156.399676</td>\n",
       "      <td>57</td>\n",
       "      <td>0</td>\n",
       "      <td>Weight gain</td>\n",
       "    </tr>\n",
       "    <tr>\n",
       "      <th>10</th>\n",
       "      <td>0.0</td>\n",
       "      <td>71.195382</td>\n",
       "      <td>186.604926</td>\n",
       "      <td>54</td>\n",
       "      <td>0</td>\n",
       "      <td>Weight Loss</td>\n",
       "    </tr>\n",
       "    <tr>\n",
       "      <th>11</th>\n",
       "      <td>1.0</td>\n",
       "      <td>71.640805</td>\n",
       "      <td>213.741170</td>\n",
       "      <td>48</td>\n",
       "      <td>0</td>\n",
       "      <td>Weight Loss</td>\n",
       "    </tr>\n",
       "    <tr>\n",
       "      <th>12</th>\n",
       "      <td>1.0</td>\n",
       "      <td>64.766329</td>\n",
       "      <td>167.127461</td>\n",
       "      <td>49</td>\n",
       "      <td>0</td>\n",
       "      <td>Weight gain</td>\n",
       "    </tr>\n",
       "    <tr>\n",
       "      <th>13</th>\n",
       "      <td>1.0</td>\n",
       "      <td>69.283070</td>\n",
       "      <td>189.446181</td>\n",
       "      <td>64</td>\n",
       "      <td>0</td>\n",
       "      <td>Healthy</td>\n",
       "    </tr>\n",
       "    <tr>\n",
       "      <th>14</th>\n",
       "      <td>0.0</td>\n",
       "      <td>69.243732</td>\n",
       "      <td>186.434168</td>\n",
       "      <td>58</td>\n",
       "      <td>0</td>\n",
       "      <td>Healthy</td>\n",
       "    </tr>\n",
       "  </tbody>\n",
       "</table>\n",
       "</div>"
      ],
      "text/plain": [
       "    sex     Height      Weight  age  diabetes         Goal\n",
       "0   1.0  73.847017  241.893563   63         0  Weight Loss\n",
       "1   0.0  68.781904  162.310473   37         0  Weight gain\n",
       "2   1.0  74.110105  212.740856   41         0  Weight Loss\n",
       "3   1.0  71.730978  220.042470   56         0  Weight Loss\n",
       "4   0.0  69.881796  206.349801   57         1      Healthy\n",
       "5   1.0  67.253016  152.212156   57         0  Weight gain\n",
       "6   1.0  68.785081  183.927889   56         0      Healthy\n",
       "7   1.0  68.348516  167.971111   44         1  Weight gain\n",
       "8   0.0  67.018950  175.929440   52         0      Healthy\n",
       "9   1.0  63.456494  156.399676   57         0  Weight gain\n",
       "10  0.0  71.195382  186.604926   54         0  Weight Loss\n",
       "11  1.0  71.640805  213.741170   48         0  Weight Loss\n",
       "12  1.0  64.766329  167.127461   49         0  Weight gain\n",
       "13  1.0  69.283070  189.446181   64         0      Healthy\n",
       "14  0.0  69.243732  186.434168   58         0      Healthy"
      ]
     },
     "execution_count": 65,
     "metadata": {},
     "output_type": "execute_result"
    }
   ],
   "source": [
    "data.head(15)"
   ]
  },
  {
   "cell_type": "code",
   "execution_count": 66,
   "metadata": {
    "id": "_X4fyFu6fNP3"
   },
   "outputs": [],
   "source": [
    "from sklearn.preprocessing import StandardScaler"
   ]
  },
  {
   "cell_type": "code",
   "execution_count": 67,
   "metadata": {
    "colab": {
     "base_uri": "https://localhost:8080/"
    },
    "id": "D17fd9Dyf4Qu",
    "outputId": "8380d3c6-0677-4180-ca8d-336309dac32c"
   },
   "outputs": [
    {
     "data": {
      "text/plain": [
       "sex         float64\n",
       "Height      float64\n",
       "Weight      float64\n",
       "age           int64\n",
       "diabetes      int64\n",
       "Goal         object\n",
       "dtype: object"
      ]
     },
     "execution_count": 67,
     "metadata": {},
     "output_type": "execute_result"
    }
   ],
   "source": [
    "data.dtypes"
   ]
  },
  {
   "cell_type": "code",
   "execution_count": 69,
   "metadata": {
    "colab": {
     "base_uri": "https://localhost:8080/",
     "height": 330
    },
    "id": "ciorfSgQf7x1",
    "outputId": "3a3c53ff-4925-428f-8ea1-99a4ece7317a"
   },
   "outputs": [
    {
     "data": {
      "text/html": [
       "<div>\n",
       "<style scoped>\n",
       "    .dataframe tbody tr th:only-of-type {\n",
       "        vertical-align: middle;\n",
       "    }\n",
       "\n",
       "    .dataframe tbody tr th {\n",
       "        vertical-align: top;\n",
       "    }\n",
       "\n",
       "    .dataframe thead th {\n",
       "        text-align: right;\n",
       "    }\n",
       "</style>\n",
       "<table border=\"1\" class=\"dataframe\">\n",
       "  <thead>\n",
       "    <tr style=\"text-align: right;\">\n",
       "      <th></th>\n",
       "      <th>sex</th>\n",
       "      <th>Height</th>\n",
       "      <th>Weight</th>\n",
       "      <th>age</th>\n",
       "      <th>diabetes</th>\n",
       "      <th>Goal</th>\n",
       "    </tr>\n",
       "  </thead>\n",
       "  <tbody>\n",
       "    <tr>\n",
       "      <th>0</th>\n",
       "      <td>1.0</td>\n",
       "      <td>73.847017</td>\n",
       "      <td>241.893563</td>\n",
       "      <td>63</td>\n",
       "      <td>0.0</td>\n",
       "      <td>Weight Loss</td>\n",
       "    </tr>\n",
       "    <tr>\n",
       "      <th>1</th>\n",
       "      <td>0.0</td>\n",
       "      <td>68.781904</td>\n",
       "      <td>162.310473</td>\n",
       "      <td>37</td>\n",
       "      <td>0.0</td>\n",
       "      <td>Weight gain</td>\n",
       "    </tr>\n",
       "    <tr>\n",
       "      <th>2</th>\n",
       "      <td>1.0</td>\n",
       "      <td>74.110105</td>\n",
       "      <td>212.740856</td>\n",
       "      <td>41</td>\n",
       "      <td>0.0</td>\n",
       "      <td>Weight Loss</td>\n",
       "    </tr>\n",
       "    <tr>\n",
       "      <th>3</th>\n",
       "      <td>1.0</td>\n",
       "      <td>71.730978</td>\n",
       "      <td>220.042470</td>\n",
       "      <td>56</td>\n",
       "      <td>0.0</td>\n",
       "      <td>Weight Loss</td>\n",
       "    </tr>\n",
       "    <tr>\n",
       "      <th>4</th>\n",
       "      <td>0.0</td>\n",
       "      <td>69.881796</td>\n",
       "      <td>206.349801</td>\n",
       "      <td>57</td>\n",
       "      <td>1.0</td>\n",
       "      <td>Healthy</td>\n",
       "    </tr>\n",
       "    <tr>\n",
       "      <th>5</th>\n",
       "      <td>1.0</td>\n",
       "      <td>67.253016</td>\n",
       "      <td>152.212156</td>\n",
       "      <td>57</td>\n",
       "      <td>0.0</td>\n",
       "      <td>Weight gain</td>\n",
       "    </tr>\n",
       "    <tr>\n",
       "      <th>6</th>\n",
       "      <td>1.0</td>\n",
       "      <td>68.785081</td>\n",
       "      <td>183.927889</td>\n",
       "      <td>56</td>\n",
       "      <td>0.0</td>\n",
       "      <td>Healthy</td>\n",
       "    </tr>\n",
       "    <tr>\n",
       "      <th>7</th>\n",
       "      <td>1.0</td>\n",
       "      <td>68.348516</td>\n",
       "      <td>167.971111</td>\n",
       "      <td>44</td>\n",
       "      <td>1.0</td>\n",
       "      <td>Weight gain</td>\n",
       "    </tr>\n",
       "    <tr>\n",
       "      <th>8</th>\n",
       "      <td>0.0</td>\n",
       "      <td>67.018950</td>\n",
       "      <td>175.929440</td>\n",
       "      <td>52</td>\n",
       "      <td>0.0</td>\n",
       "      <td>Healthy</td>\n",
       "    </tr>\n",
       "    <tr>\n",
       "      <th>9</th>\n",
       "      <td>1.0</td>\n",
       "      <td>63.456494</td>\n",
       "      <td>156.399676</td>\n",
       "      <td>57</td>\n",
       "      <td>0.0</td>\n",
       "      <td>Weight gain</td>\n",
       "    </tr>\n",
       "    <tr>\n",
       "      <th>10</th>\n",
       "      <td>0.0</td>\n",
       "      <td>71.195382</td>\n",
       "      <td>186.604926</td>\n",
       "      <td>54</td>\n",
       "      <td>0.0</td>\n",
       "      <td>Weight Loss</td>\n",
       "    </tr>\n",
       "    <tr>\n",
       "      <th>11</th>\n",
       "      <td>1.0</td>\n",
       "      <td>71.640805</td>\n",
       "      <td>213.741170</td>\n",
       "      <td>48</td>\n",
       "      <td>0.0</td>\n",
       "      <td>Weight Loss</td>\n",
       "    </tr>\n",
       "    <tr>\n",
       "      <th>12</th>\n",
       "      <td>1.0</td>\n",
       "      <td>64.766329</td>\n",
       "      <td>167.127461</td>\n",
       "      <td>49</td>\n",
       "      <td>0.0</td>\n",
       "      <td>Weight gain</td>\n",
       "    </tr>\n",
       "    <tr>\n",
       "      <th>13</th>\n",
       "      <td>1.0</td>\n",
       "      <td>69.283070</td>\n",
       "      <td>189.446181</td>\n",
       "      <td>64</td>\n",
       "      <td>0.0</td>\n",
       "      <td>Healthy</td>\n",
       "    </tr>\n",
       "    <tr>\n",
       "      <th>14</th>\n",
       "      <td>0.0</td>\n",
       "      <td>69.243732</td>\n",
       "      <td>186.434168</td>\n",
       "      <td>58</td>\n",
       "      <td>0.0</td>\n",
       "      <td>Healthy</td>\n",
       "    </tr>\n",
       "    <tr>\n",
       "      <th>15</th>\n",
       "      <td>1.0</td>\n",
       "      <td>67.645620</td>\n",
       "      <td>172.186930</td>\n",
       "      <td>50</td>\n",
       "      <td>0.0</td>\n",
       "      <td>Healthy</td>\n",
       "    </tr>\n",
       "    <tr>\n",
       "      <th>16</th>\n",
       "      <td>1.0</td>\n",
       "      <td>72.418317</td>\n",
       "      <td>196.028506</td>\n",
       "      <td>58</td>\n",
       "      <td>0.0</td>\n",
       "      <td>Weight Loss</td>\n",
       "    </tr>\n",
       "    <tr>\n",
       "      <th>17</th>\n",
       "      <td>1.0</td>\n",
       "      <td>63.974326</td>\n",
       "      <td>172.883470</td>\n",
       "      <td>66</td>\n",
       "      <td>0.0</td>\n",
       "      <td>Healthy</td>\n",
       "    </tr>\n",
       "    <tr>\n",
       "      <th>18</th>\n",
       "      <td>0.0</td>\n",
       "      <td>69.640060</td>\n",
       "      <td>185.983958</td>\n",
       "      <td>43</td>\n",
       "      <td>0.0</td>\n",
       "      <td>Healthy</td>\n",
       "    </tr>\n",
       "    <tr>\n",
       "      <th>19</th>\n",
       "      <td>0.0</td>\n",
       "      <td>67.936005</td>\n",
       "      <td>182.426648</td>\n",
       "      <td>69</td>\n",
       "      <td>1.0</td>\n",
       "      <td>Healthy</td>\n",
       "    </tr>\n",
       "  </tbody>\n",
       "</table>\n",
       "</div>"
      ],
      "text/plain": [
       "    sex     Height      Weight  age  diabetes         Goal\n",
       "0   1.0  73.847017  241.893563   63       0.0  Weight Loss\n",
       "1   0.0  68.781904  162.310473   37       0.0  Weight gain\n",
       "2   1.0  74.110105  212.740856   41       0.0  Weight Loss\n",
       "3   1.0  71.730978  220.042470   56       0.0  Weight Loss\n",
       "4   0.0  69.881796  206.349801   57       1.0      Healthy\n",
       "5   1.0  67.253016  152.212156   57       0.0  Weight gain\n",
       "6   1.0  68.785081  183.927889   56       0.0      Healthy\n",
       "7   1.0  68.348516  167.971111   44       1.0  Weight gain\n",
       "8   0.0  67.018950  175.929440   52       0.0      Healthy\n",
       "9   1.0  63.456494  156.399676   57       0.0  Weight gain\n",
       "10  0.0  71.195382  186.604926   54       0.0  Weight Loss\n",
       "11  1.0  71.640805  213.741170   48       0.0  Weight Loss\n",
       "12  1.0  64.766329  167.127461   49       0.0  Weight gain\n",
       "13  1.0  69.283070  189.446181   64       0.0      Healthy\n",
       "14  0.0  69.243732  186.434168   58       0.0      Healthy\n",
       "15  1.0  67.645620  172.186930   50       0.0      Healthy\n",
       "16  1.0  72.418317  196.028506   58       0.0  Weight Loss\n",
       "17  1.0  63.974326  172.883470   66       0.0      Healthy\n",
       "18  0.0  69.640060  185.983958   43       0.0      Healthy\n",
       "19  0.0  67.936005  182.426648   69       1.0      Healthy"
      ]
     },
     "execution_count": 69,
     "metadata": {},
     "output_type": "execute_result"
    }
   ],
   "source": [
    "data['diabetes']=data['diabetes'].astype(np.float64)\n",
    "data.head(20)"
   ]
  },
  {
   "cell_type": "code",
   "execution_count": 70,
   "metadata": {
    "colab": {
     "base_uri": "https://localhost:8080/",
     "height": 206
    },
    "id": "abvtBGOKgEG0",
    "outputId": "13d035d9-a4df-4e1b-cd1c-2379527c33b4"
   },
   "outputs": [
    {
     "data": {
      "text/html": [
       "<div>\n",
       "<style scoped>\n",
       "    .dataframe tbody tr th:only-of-type {\n",
       "        vertical-align: middle;\n",
       "    }\n",
       "\n",
       "    .dataframe tbody tr th {\n",
       "        vertical-align: top;\n",
       "    }\n",
       "\n",
       "    .dataframe thead th {\n",
       "        text-align: right;\n",
       "    }\n",
       "</style>\n",
       "<table border=\"1\" class=\"dataframe\">\n",
       "  <thead>\n",
       "    <tr style=\"text-align: right;\">\n",
       "      <th></th>\n",
       "      <th>sex</th>\n",
       "      <th>Height</th>\n",
       "      <th>Weight</th>\n",
       "      <th>age</th>\n",
       "      <th>diabetes</th>\n",
       "      <th>Goal</th>\n",
       "    </tr>\n",
       "  </thead>\n",
       "  <tbody>\n",
       "    <tr>\n",
       "      <th>0</th>\n",
       "      <td>1.0</td>\n",
       "      <td>73.847017</td>\n",
       "      <td>241.893563</td>\n",
       "      <td>63</td>\n",
       "      <td>0.0</td>\n",
       "      <td>1.0</td>\n",
       "    </tr>\n",
       "    <tr>\n",
       "      <th>1</th>\n",
       "      <td>0.0</td>\n",
       "      <td>68.781904</td>\n",
       "      <td>162.310473</td>\n",
       "      <td>37</td>\n",
       "      <td>0.0</td>\n",
       "      <td>2.0</td>\n",
       "    </tr>\n",
       "    <tr>\n",
       "      <th>2</th>\n",
       "      <td>1.0</td>\n",
       "      <td>74.110105</td>\n",
       "      <td>212.740856</td>\n",
       "      <td>41</td>\n",
       "      <td>0.0</td>\n",
       "      <td>1.0</td>\n",
       "    </tr>\n",
       "    <tr>\n",
       "      <th>3</th>\n",
       "      <td>1.0</td>\n",
       "      <td>71.730978</td>\n",
       "      <td>220.042470</td>\n",
       "      <td>56</td>\n",
       "      <td>0.0</td>\n",
       "      <td>1.0</td>\n",
       "    </tr>\n",
       "    <tr>\n",
       "      <th>4</th>\n",
       "      <td>0.0</td>\n",
       "      <td>69.881796</td>\n",
       "      <td>206.349801</td>\n",
       "      <td>57</td>\n",
       "      <td>1.0</td>\n",
       "      <td>0.0</td>\n",
       "    </tr>\n",
       "    <tr>\n",
       "      <th>5</th>\n",
       "      <td>1.0</td>\n",
       "      <td>67.253016</td>\n",
       "      <td>152.212156</td>\n",
       "      <td>57</td>\n",
       "      <td>0.0</td>\n",
       "      <td>2.0</td>\n",
       "    </tr>\n",
       "    <tr>\n",
       "      <th>6</th>\n",
       "      <td>1.0</td>\n",
       "      <td>68.785081</td>\n",
       "      <td>183.927889</td>\n",
       "      <td>56</td>\n",
       "      <td>0.0</td>\n",
       "      <td>0.0</td>\n",
       "    </tr>\n",
       "    <tr>\n",
       "      <th>7</th>\n",
       "      <td>1.0</td>\n",
       "      <td>68.348516</td>\n",
       "      <td>167.971111</td>\n",
       "      <td>44</td>\n",
       "      <td>1.0</td>\n",
       "      <td>2.0</td>\n",
       "    </tr>\n",
       "    <tr>\n",
       "      <th>8</th>\n",
       "      <td>0.0</td>\n",
       "      <td>67.018950</td>\n",
       "      <td>175.929440</td>\n",
       "      <td>52</td>\n",
       "      <td>0.0</td>\n",
       "      <td>0.0</td>\n",
       "    </tr>\n",
       "    <tr>\n",
       "      <th>9</th>\n",
       "      <td>1.0</td>\n",
       "      <td>63.456494</td>\n",
       "      <td>156.399676</td>\n",
       "      <td>57</td>\n",
       "      <td>0.0</td>\n",
       "      <td>2.0</td>\n",
       "    </tr>\n",
       "  </tbody>\n",
       "</table>\n",
       "</div>"
      ],
      "text/plain": [
       "   sex     Height      Weight  age  diabetes  Goal\n",
       "0  1.0  73.847017  241.893563   63       0.0   1.0\n",
       "1  0.0  68.781904  162.310473   37       0.0   2.0\n",
       "2  1.0  74.110105  212.740856   41       0.0   1.0\n",
       "3  1.0  71.730978  220.042470   56       0.0   1.0\n",
       "4  0.0  69.881796  206.349801   57       1.0   0.0\n",
       "5  1.0  67.253016  152.212156   57       0.0   2.0\n",
       "6  1.0  68.785081  183.927889   56       0.0   0.0\n",
       "7  1.0  68.348516  167.971111   44       1.0   2.0\n",
       "8  0.0  67.018950  175.929440   52       0.0   0.0\n",
       "9  1.0  63.456494  156.399676   57       0.0   2.0"
      ]
     },
     "execution_count": 70,
     "metadata": {},
     "output_type": "execute_result"
    }
   ],
   "source": [
    "data['Goal']=LabelEncoder().fit_transform(data['Goal'])\n",
    "data['Goal']=data['Goal'].astype(np.float64)\n",
    "data.head(10)"
   ]
  },
  {
   "cell_type": "markdown",
   "metadata": {
    "id": "vvwESwq6gVeM"
   },
   "source": [
    "0 : Healthy, 1: Weight-Loss, 2: Weight-Gain"
   ]
  },
  {
   "cell_type": "code",
   "execution_count": 71,
   "metadata": {
    "id": "7wNh4FncgRQn"
   },
   "outputs": [],
   "source": [
    "X=data.drop(columns=['Goal']).values\n",
    "Y=data['Goal'].values\n"
   ]
  },
  {
   "cell_type": "code",
   "execution_count": 72,
   "metadata": {
    "colab": {
     "base_uri": "https://localhost:8080/"
    },
    "id": "APFZ2hIwgrwf",
    "outputId": "92876685-c004-4b6e-c126-86ba85f9e70e"
   },
   "outputs": [
    {
     "data": {
      "text/plain": [
       "((5011, 5), (5011,))"
      ]
     },
     "execution_count": 72,
     "metadata": {},
     "output_type": "execute_result"
    }
   ],
   "source": [
    "X.shape,Y.shape"
   ]
  },
  {
   "cell_type": "code",
   "execution_count": 73,
   "metadata": {
    "id": "_8a3ILMxgto9"
   },
   "outputs": [],
   "source": [
    "x_train,x_test,y_train,y_test=train_test_split(X,Y,test_size=0.2)"
   ]
  },
  {
   "cell_type": "code",
   "execution_count": 74,
   "metadata": {
    "colab": {
     "base_uri": "https://localhost:8080/"
    },
    "id": "g3UWmdaxg0Qg",
    "outputId": "ee609fc5-10e9-4bbf-e58e-0c92c5c2ccc9"
   },
   "outputs": [
    {
     "data": {
      "text/plain": [
       "((4008, 5), (1003, 5), (4008,), (1003,))"
      ]
     },
     "execution_count": 74,
     "metadata": {},
     "output_type": "execute_result"
    }
   ],
   "source": [
    "x_train.shape,x_test.shape,y_train.shape,y_test.shape"
   ]
  },
  {
   "cell_type": "markdown",
   "metadata": {
    "id": "QShM-yeFg7V9"
   },
   "source": [
    "## RandomForest Model "
   ]
  },
  {
   "cell_type": "code",
   "execution_count": 91,
   "metadata": {
    "colab": {
     "base_uri": "https://localhost:8080/"
    },
    "id": "UfXigBUJg4Yv",
    "outputId": "72dbc76b-cd85-40e7-9391-7f366ebc37b3"
   },
   "outputs": [
    {
     "name": "stdout",
     "output_type": "stream",
     "text": [
      "Training Accuracy : 1.0\n",
      "Testing Accuracy : 0.9870388833499502\n"
     ]
    }
   ],
   "source": [
    "from sklearn.ensemble import RandomForestClassifier\n",
    "Model=RandomForestClassifier()\n",
    "Model.fit(x_train,y_train)\n",
    "print(f'Training Accuracy : {Model.score(x_train,y_train)}')\n",
    "print(f'Testing Accuracy : {Model.score(x_test,y_test)}')"
   ]
  },
  {
   "cell_type": "code",
   "execution_count": 92,
   "metadata": {},
   "outputs": [
    {
     "data": {
      "text/plain": [
       "array([1.])"
      ]
     },
     "execution_count": 92,
     "metadata": {},
     "output_type": "execute_result"
    }
   ],
   "source": [
    "#Predinction using RF\n",
    "pred=Model.predict([[1.0,71.730978,220.042470,56,0.0]])\n",
    "pred"
   ]
  },
  {
   "cell_type": "code",
   "execution_count": 94,
   "metadata": {
    "id": "lIJA_IZIo3tz"
   },
   "outputs": [],
   "source": [
    "import pickle\n",
    "# pickle.dump(Model,open('RandomForest_final.pkl','wb'))"
   ]
  },
  {
   "cell_type": "code",
   "execution_count": 98,
   "metadata": {},
   "outputs": [
    {
     "data": {
      "text/plain": [
       "array([0.])"
      ]
     },
     "execution_count": 98,
     "metadata": {},
     "output_type": "execute_result"
    }
   ],
   "source": [
    "model = pickle.load(open('./RandomForest_final.pkl','rb'))\n",
    "p = model.predict([[0.0,69.881796,206.349801,57,1.0]])\n",
    "p"
   ]
  },
  {
   "cell_type": "markdown",
   "metadata": {
    "id": "vxmfWjeFheya"
   },
   "source": [
    "## K Nearest Neighbors"
   ]
  },
  {
   "cell_type": "code",
   "execution_count": 77,
   "metadata": {
    "colab": {
     "base_uri": "https://localhost:8080/"
    },
    "id": "itD5J7uIhFc-",
    "outputId": "03490189-3079-422c-c5ba-b109afe4ad59"
   },
   "outputs": [
    {
     "name": "stdout",
     "output_type": "stream",
     "text": [
      "Training Accuracy : 0.9478542914171657\n",
      "Testing Accuracy : 0.9162512462612163\n"
     ]
    }
   ],
   "source": [
    "from sklearn.neighbors import KNeighborsClassifier\n",
    "Model=KNeighborsClassifier()\n",
    "Model.fit(x_train,y_train)\n",
    "print(f'Training Accuracy : {Model.score(x_train,y_train)}')\n",
    "print(f'Testing Accuracy : {Model.score(x_test,y_test)}')"
   ]
  },
  {
   "cell_type": "code",
   "execution_count": 78,
   "metadata": {},
   "outputs": [
    {
     "data": {
      "text/plain": [
       "array([2.])"
      ]
     },
     "execution_count": 78,
     "metadata": {},
     "output_type": "execute_result"
    }
   ],
   "source": [
    "# Prediction Using KNN\n",
    "pred=Model.predict([[0.0,68.781904,162.310473,37,0.0]])\n",
    "pred"
   ]
  },
  {
   "cell_type": "code",
   "execution_count": 25,
   "metadata": {
    "id": "uhwadzXuomZ9"
   },
   "outputs": [],
   "source": [
    "# import pickle\n",
    "# pickle.dump(Model,open('KNeighborsClassifier.pkl','wb'))"
   ]
  },
  {
   "cell_type": "markdown",
   "metadata": {
    "id": "hwJekV0hhr1q"
   },
   "source": [
    "## Support Vector Machine"
   ]
  },
  {
   "cell_type": "code",
   "execution_count": 79,
   "metadata": {
    "colab": {
     "base_uri": "https://localhost:8080/"
    },
    "id": "f9D-gP4jhpzr",
    "outputId": "eeaceb0f-af59-4a0e-b889-200217f47756"
   },
   "outputs": [
    {
     "name": "stdout",
     "output_type": "stream",
     "text": [
      "Training Accuracy : 0.48877245508982037\n",
      "Testing Accuracy : 0.4995014955134596\n"
     ]
    }
   ],
   "source": [
    "from sklearn.svm import SVC\n",
    "Model=SVC()\n",
    "Model.fit(x_train,y_train)\n",
    "print(f'Training Accuracy : {Model.score(x_train,y_train)}')\n",
    "print(f'Testing Accuracy : {Model.score(x_test,y_test)}')"
   ]
  },
  {
   "cell_type": "code",
   "execution_count": 80,
   "metadata": {},
   "outputs": [
    {
     "data": {
      "text/plain": [
       "array([0.])"
      ]
     },
     "execution_count": 80,
     "metadata": {},
     "output_type": "execute_result"
    }
   ],
   "source": [
    "#Prediction using SVM\n",
    "pred=Model.predict([[0.0,68.781904,162.310473,37,0.0]])\n",
    "pred"
   ]
  },
  {
   "cell_type": "code",
   "execution_count": null,
   "metadata": {},
   "outputs": [],
   "source": []
  }
 ],
 "metadata": {
  "colab": {
   "name": "datasetmedical.ipynb",
   "provenance": []
  },
  "kernelspec": {
   "display_name": "Python 3",
   "language": "python",
   "name": "python3"
  },
  "language_info": {
   "codemirror_mode": {
    "name": "ipython",
    "version": 3
   },
   "file_extension": ".py",
   "mimetype": "text/x-python",
   "name": "python",
   "nbconvert_exporter": "python",
   "pygments_lexer": "ipython3",
   "version": "3.8.8"
  }
 },
 "nbformat": 4,
 "nbformat_minor": 1
}
